{
 "cells": [
  {
   "cell_type": "markdown",
   "metadata": {},
   "source": [
    "# Preprocess chain from Raster/SHP to input format of the net\n",
    "\n",
    "Requirements can be found in requirements.txt\n",
    "This code relies on GDAL\n",
    "\n",
    "\n",
    "Set the directory path for the project"
   ]
  },
  {
   "cell_type": "code",
   "execution_count": 1,
   "metadata": {},
   "outputs": [
    {
     "name": "stdout",
     "output_type": "stream",
     "text": [
      "env: DIR=/eos/jeodpp/data/projects/REFOCUS/data/swalim_v2\n",
      "/eos/jeodpp/data/projects/REFOCUS/data/swalim_v2/code\n"
     ]
    }
   ],
   "source": [
    "#make dir where the root folder of the project is\n",
    "%env DIR=/eos/jeodpp/data/projects/REFOCUS/data/swalim_v2\n",
    "!pwd\n"
   ]
  },
  {
   "cell_type": "code",
   "execution_count": null,
   "metadata": {},
   "outputs": [],
   "source": [
    "# remove BROWSE files if they exist\n",
    "find . -name '*BROWSE*' -delete"
   ]
  },
  {
   "cell_type": "markdown",
   "metadata": {},
   "source": [
    "Create the tiles to run the model\n",
    "The output images goes to inputs/Tiled\n",
    "Variables to set:\n",
    "* SIZE  size in pixels of the tile cut\n",
    "* JOBS number of parallel jobs desired to run this code\n",
    "* OVERLAP number of pixels you want the tiles to overlap. Useful to later handle better the objects detected on the edges"
   ]
  },
  {
   "cell_type": "code",
   "execution_count": 16,
   "metadata": {},
   "outputs": [
    {
     "name": "stdout",
     "output_type": "stream",
     "text": [
      "/eos/jeodpp/data/projects/REFOCUS/data/swalim_v2/code\n"
     ]
    },
    {
     "name": "stderr",
     "output_type": "stream",
     "text": [
      "chmod: changing permissions of 'maketiles.sh': Operation not permitted\n",
      "chmod: changing permissions of 'merge-shp.sh': Operation not permitted\n"
     ]
    }
   ],
   "source": [
    "%%bash\n",
    "SIZE=1024\n",
    "JOBS=36\n",
    "OVERLAP=20\n",
    "pwd\n",
    "mkdir -p $DIR/scripts_toerase/\n",
    "cd $DIR/code/scripts/processing/\n",
    "mkdir -p $DIR/inputs/Tiled\n",
    "chmod +x *.sh\n",
    "for file in $DIR/images/*/*tif\n",
    "do\n",
    "    echo $DIR/code/scripts/processing/maketiles.sh ${file} $SIZE $(basename \"$file\" .tif) 20 $DIR/inputs/Tiled/ > $DIR/scripts_toerase/'mt_'$(basename \"$file\")'.sh'\n",
    "done\n"
   ]
  },
  {
   "cell_type": "code",
   "execution_count": 17,
   "metadata": {},
   "outputs": [
    {
     "name": "stderr",
     "output_type": "stream",
     "text": [
      "IOPub data rate exceeded.\n",
      "The notebook server will temporarily stop sending output\n",
      "to the client in order to avoid crashing it.\n",
      "To change this limit, set the config variable\n",
      "`--NotebookApp.iopub_data_rate_limit`.\n",
      "\n",
      "Current values:\n",
      "NotebookApp.iopub_data_rate_limit=1000000.0 (bytes/sec)\n",
      "NotebookApp.rate_limit_window=3.0 (secs)\n",
      "\n"
     ]
    }
   ],
   "source": [
    "%%bash\n",
    "chmod +x $DIR/scripts_toerase/mt_*.sh\n",
    "ls $DIR/scripts_toerase/mt_* > $DIR/scripts_toerase/Main-par.txt\n",
    "ls $DIR/scripts_toerase/mt_* | wc -l\n",
    "cat $DIR/scripts_toerase/Main-par.txt | /eos/jeodpp/data/projects/REFOCUS/data/swalim_v2/code/parallel/bin/parallel -j 36 {}\n",
    "rm -r  $DIR/scripts_toerase"
   ]
  },
  {
   "cell_type": "code",
   "execution_count": 19,
   "metadata": {},
   "outputs": [
    {
     "name": "stdout",
     "output_type": "stream",
     "text": [
      "/eos/jeodpp/data/projects/REFOCUS/data/swalim_v2/code\n"
     ]
    }
   ],
   "source": [
    "%%bash\n",
    "pwd\n",
    "find $DIR/inputs/Tiled/ -type f -maxdepth 1 -name \"*tif\"> $DIR/inputs/list_tiles.csv\n",
    "mkdir -p $DIR/inputs/Tiled/pancro/ $DIR/inputs/Tiled/RGB/"
   ]
  },
  {
   "cell_type": "markdown",
   "metadata": {},
   "source": [
    "### Erase tiles that are all 0\n",
    "Also separate tiles that belong to RGB and Pancro in diferent folders\n",
    "in this case it creates a compilation of directories of 100 images under each type. To ensure computation\n"
   ]
  },
  {
   "cell_type": "code",
   "execution_count": 20,
   "metadata": {},
   "outputs": [
    {
     "name": "stderr",
     "output_type": "stream",
     "text": [
      "IOPub data rate exceeded.\n",
      "The notebook server will temporarily stop sending output\n",
      "to the client in order to avoid crashing it.\n",
      "To change this limit, set the config variable\n",
      "`--NotebookApp.iopub_data_rate_limit`.\n",
      "\n",
      "Current values:\n",
      "NotebookApp.iopub_data_rate_limit=1000000.0 (bytes/sec)\n",
      "NotebookApp.rate_limit_window=3.0 (secs)\n",
      "\n"
     ]
    }
   ],
   "source": [
    "%%bash\n",
    "cd $DIR/code/scripts/processing/\n",
    "pwd\n",
    "python3 erase_tiles_nodata.py"
   ]
  },
  {
   "cell_type": "code",
   "execution_count": 21,
   "metadata": {},
   "outputs": [
    {
     "name": "stderr",
     "output_type": "stream",
     "text": [
      "bash: line 2: /bin/rm: Argument list too long\n",
      "bash: line 3: /bin/rm: Argument list too long\n"
     ]
    }
   ],
   "source": [
    "%%bash\n",
    "# CLEAN THE tILES FOLDERS FROM *XML AND *tfw\n",
    "rm $DIR/inputs/Tiled/*xml\n",
    "rm $DIR/inputs/Tiled/*tfw\n",
    "# Create subfolders of 100 elements each to be able to handle them\n",
    "cd $DIR/inputs/Tiled/pancro\n",
    "i=0; for f in *; do d=dir_$(printf %03d $((i/100+1))); mkdir -p $d; mv \"$f\" $d; let i++; done\n",
    "cd $DIR/inputs/Tiled/RGB\n",
    "i=0; for f in *; do d=dir_$(printf %03d $((i/100+1))); mkdir -p $d; mv \"$f\" $d; let i++; done\n"
   ]
  },
  {
   "cell_type": "markdown",
   "metadata": {},
   "source": [
    "Create the footprints of the tiles, one for RBG and another one for the pancromatic images"
   ]
  },
  {
   "cell_type": "code",
   "execution_count": 26,
   "metadata": {},
   "outputs": [
    {
     "name": "stdout",
     "output_type": "stream",
     "text": [
      "Creating new index file...\n",
      "Creating new index file...\n"
     ]
    }
   ],
   "source": [
    "%%bash\n",
    "rm -r $DIR/inputs/footprints\n",
    "mkdir -p $DIR/inputs/footprints\n",
    "\n",
    "#create the footprints for RGB and pancro images\n",
    "find $DIR/inputs/Tiled/pancro/dir_* -name '*.tif' -print | xargs --max-args=50 gdaltindex -t_srs EPSG:4326 -src_srs_name src_srs  $DIR/inputs/footprints/footprint-pancro.shp \n",
    "find $DIR/inputs/Tiled/RGB/dir_* -name '*.tif' -print | xargs --max-args=50 gdaltindex -t_srs EPSG:4326 -src_srs_name src_srs  $DIR/inputs/footprints/footprint-RGB.shp\n",
    "\n",
    "find $DIR/inputs/Tiled/pancro/dir_* -type f -maxdepth 1 -name \"*tif\" > $DIR/inputs/list_tiles_pancro.csv\n",
    "find $DIR/inputs/Tiled/RGB/dir_* -type f -maxdepth 1 -name \"*tif\" > $DIR/inputs/list_tiles_RGB.csv"
   ]
  },
  {
   "cell_type": "markdown",
   "metadata": {},
   "source": [
    "### Run the preprocess algorithm to create the dataset to train/validate/test"
   ]
  },
  {
   "cell_type": "markdown",
   "metadata": {},
   "source": [
    "In this case we will need the shapefile where teh ground truth data is delineated, in our case is in DIR/extended_AOI/\n",
    "Parameters:\n",
    "- CSV with the list of images\n",
    "- Where to output the image. The code handles the distirbution of pancro and RGB\n",
    "- Folder to put in images with annotations\n",
    "- Folder to put in images without annotations\n",
    "- The name of the shapefile with the objects to train\n",
    "- Name and path of the json file where the annotations will be saved"
   ]
  },
  {
   "cell_type": "code",
   "execution_count": 35,
   "metadata": {},
   "outputs": [
    {
     "name": "stdout",
     "output_type": "stream",
     "text": [
      "/eos/jeodpp/data/projects/REFOCUS/data/swalim_v2/code\n",
      "Finish!!! :). Execution time: 30838.1694419384\n",
      "Finish!!! :). Execution time: 90028.31702136993\n"
     ]
    }
   ],
   "source": [
    "%%bash\n",
    "pwd\n",
    "cd $DIR/code/scripts/processing/\n",
    "mkdir -p  $DIR/inputs/pancro/img_with_ann/  $DIR/inputs/RGB/img_with_ann/ $DIR/inputs/pancro/img_without_ann/  $DIR/inputs/RGB/img_without_ann/ $DIR/inputs/pancro/annotations/  $DIR/inputs/RGB/annotations/\n",
    "python3 image_preprocess.py $DIR/inputs/list_tiles_pancro.csv $DIR/inputs/pancro/img_with_ann/ $DIR/inputs/pancro/img_without_ann/ $DIR/extended_AOI/2017_2019_extendedAOI_Feb2020.shp $DIR/inputs/pancro/annotations/pancro_all.json \n",
    "python3 image_preprocess.py $DIR/inputs/list_tiles_RGB.csv $DIR/inputs/RGB/img_with_ann/ $DIR/inputs/RGB/img_without_ann/ $DIR/extended_AOI/2017_2019_extendedAOI_Feb2020.shp $DIR/inputs/RGB/annotations/RGB_all.json"
   ]
  },
  {
   "cell_type": "markdown",
   "metadata": {},
   "source": [
    "Create the new footprints, one for images with annotatins and another one for images without"
   ]
  },
  {
   "cell_type": "code",
   "execution_count": 36,
   "metadata": {},
   "outputs": [
    {
     "name": "stdout",
     "output_type": "stream",
     "text": [
      "Creating new index file...\n",
      "Creating new index file...\n",
      "Creating new index file...\n",
      "Creating new index file...\n"
     ]
    }
   ],
   "source": [
    "%%bash\n",
    "# pancro images\n",
    "path_pancro_ann=$DIR/inputs/pancro/img_with_ann/\n",
    "path_pancro_noann=$DIR/inputs/pancro/img_without_ann/ \n",
    "\n",
    "find $path_pancro_noann -type f -maxdepth 1 -name \"*tif\" > $DIR/inputs/pancro_listwithoutann.csv\n",
    "find $path_pancro_ann  -type f -maxdepth 1 -name \"*tif\" > $DIR/inputs/pancro_listwithann.csv\n",
    "\n",
    "find $path_pancro_noann -name '*.tif' -print | xargs --max-args=50 gdaltindex -t_srs EPSG:4326 -src_srs_name src_srs  $DIR/inputs/footprints/footprint-pancro-noann.shp \n",
    "find $path_pancro_ann -name '*.tif' -print | xargs --max-args=50 gdaltindex -t_srs EPSG:4326 -src_srs_name src_srs  $DIR/inputs/footprints/footprint-pancro-ann.shp\n",
    "\n",
    "# RGB images\n",
    "path_RGB_ann=$DIR/inputs/RGB/img_with_ann/\n",
    "path_RGB_noann=$DIR/inputs/RGB/img_without_ann/ \n",
    "\n",
    "find $path_RGB_noann -type f -maxdepth 1 -name \"*tif\" > $DIR/inputs/RGB_listwithoutann.csv\n",
    "find $path_RGB_ann  -type f -maxdepth 1 -name \"*tif\" > $DIR/inputs/RGB_listwithann.csv\n",
    "\n",
    "find $path_RGB_noann -name '*.tif' -print | xargs --max-args=50 gdaltindex -t_srs EPSG:4326 -src_srs_name src_srs  $DIR/inputs/footprints/footprint-RGB-noann.shp \n",
    "find $path_RGB_ann -name '*.tif' -print | xargs --max-args=50 gdaltindex -t_srs EPSG:4326 -src_srs_name src_srs  $DIR/inputs/footprints/footprint-RGB-ann.shp"
   ]
  },
  {
   "cell_type": "code",
   "execution_count": 46,
   "metadata": {},
   "outputs": [],
   "source": [
    "%%bash\n",
    "#change paths inside the files\n",
    "sed -i \"s|/scratch/swalim/inputs/RGB/img_with_ann|$DIR/inputs/RGB/img_with_ann|g\" $DIR/inputs/RGB_listwithann.csv\n",
    "sed -i \"s|/scratch/swalim/inputs/pancro/img_with_ann|$DIR/inputs/pancro/img_with_ann|g\" $DIR/inputs/pancro_listwithann.csv\n",
    "\n",
    "sed -i \"s|/scratch/swalim/inputs/RGB/img_without_ann|$DIR/inputs/RGB/img_without_ann|g\" $DIR/inputs/RGB_listwithoutann.csv\n",
    "sed -i \"s|/scratch/swalim/inputs/pancro/img_without_ann|$DIR/inputs/pancro/img_without_ann|g\" $DIR/inputs/pancro_listwithoutann.csv\n",
    "\n"
   ]
  }
 ],
 "metadata": {
  "kernelspec": {
   "display_name": "Python 3",
   "language": "python",
   "name": "python3"
  },
  "language_info": {
   "codemirror_mode": {
    "name": "ipython",
    "version": 3
   },
   "file_extension": ".py",
   "mimetype": "text/x-python",
   "name": "python",
   "nbconvert_exporter": "python",
   "pygments_lexer": "ipython3",
   "version": "3.7.6"
  }
 },
 "nbformat": 4,
 "nbformat_minor": 4
}
